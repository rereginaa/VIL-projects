{
 "cells": [
  {
   "cell_type": "code",
   "execution_count": 1,
   "id": "030c0a4d-fa40-464a-b5fa-42c9d56b082a",
   "metadata": {},
   "outputs": [],
   "source": [
    "import torch\n",
    "import torch.nn as nn\n",
    "import torch.optim as optim\n",
    "import torch.nn.functional as F\n",
    "\n",
    "import math\n",
    "import gym \n",
    "import random \n",
    "import numpy as np \n",
    "import matplotlib.pyplot as plt \n",
    "\n",
    "from matplotlib.pyplot import imshow, show\n",
    "from IPython.display import clear_output"
   ]
  },
  {
   "cell_type": "code",
   "execution_count": null,
   "id": "b816962e-34ca-4ab3-bd54-7e79cbfee6f8",
   "metadata": {},
   "outputs": [
    {
     "ename": "NameError",
     "evalue": "name 'gym' is not defined",
     "output_type": "error",
     "traceback": [
      "\u001b[0;31m---------------------------------------------------------------------------\u001b[0m",
      "\u001b[0;31mNameError\u001b[0m                                 Traceback (most recent call last)",
      "\u001b[0;32m/var/folders/bk/km4jr97x4t3386lc8kvtzh300000gn/T/ipykernel_977/3855728012.py\u001b[0m in \u001b[0;36m<module>\u001b[0;34m\u001b[0m\n\u001b[0;32m----> 1\u001b[0;31m \u001b[0menv\u001b[0m \u001b[0;34m=\u001b[0m \u001b[0mgym\u001b[0m\u001b[0;34m.\u001b[0m\u001b[0mmake\u001b[0m\u001b[0;34m(\u001b[0m\u001b[0;34m'CartPole-v1'\u001b[0m\u001b[0;34m,\u001b[0m \u001b[0mnew_step_api\u001b[0m \u001b[0;34m=\u001b[0m \u001b[0;32mTrue\u001b[0m\u001b[0;34m)\u001b[0m\u001b[0;34m\u001b[0m\u001b[0;34m\u001b[0m\u001b[0m\n\u001b[0m\u001b[1;32m      2\u001b[0m \u001b[0mobservation_space\u001b[0m \u001b[0;34m=\u001b[0m \u001b[0menv\u001b[0m\u001b[0;34m.\u001b[0m\u001b[0mobservation_space\u001b[0m\u001b[0;34m.\u001b[0m\u001b[0mshape\u001b[0m\u001b[0;34m[\u001b[0m\u001b[0;36m0\u001b[0m\u001b[0;34m]\u001b[0m\u001b[0;34m\u001b[0m\u001b[0;34m\u001b[0m\u001b[0m\n\u001b[1;32m      3\u001b[0m \u001b[0maction_space\u001b[0m \u001b[0;34m=\u001b[0m \u001b[0menv\u001b[0m\u001b[0;34m.\u001b[0m\u001b[0maction_space\u001b[0m\u001b[0;34m.\u001b[0m\u001b[0mn\u001b[0m\u001b[0;34m\u001b[0m\u001b[0;34m\u001b[0m\u001b[0m\n\u001b[1;32m      4\u001b[0m \u001b[0;34m\u001b[0m\u001b[0m\n\u001b[1;32m      5\u001b[0m \u001b[0mepisodes\u001b[0m \u001b[0;34m=\u001b[0m \u001b[0;36m100\u001b[0m\u001b[0;34m\u001b[0m\u001b[0;34m\u001b[0m\u001b[0m\n",
      "\u001b[0;31mNameError\u001b[0m: name 'gym' is not defined"
     ]
    }
   ],
   "source": [
    "env = gym.make('CartPole-v1', new_step_api = True)\n",
    "observation_space = env.observation_space.shape[0]\n",
    "action_space = env.action_space.n\n",
    "\n",
    "episodes = 100\n",
    "lr = 0.0001\n",
    "memory_size = 10000\n",
    "batch = 64\n",
    "gamma = 0.95\n",
    "explore_max = 1.0\n",
    "explore_decay = 0.99\n",
    "explore_min = 0.01\n",
    "\n",
    "FC1_dim = 1024\n",
    "FC2_dim = 512\n",
    "\n",
    "device = torch.device(\"cpu\")\n",
    "\n",
    "best_reward = 0\n",
    "average_reward = 0\n",
    "episode_number = []\n",
    "average_reward_number = []\n",
    "rewards = []"
   ]
  },
  {
   "cell_type": "code",
   "execution_count": 3,
   "id": "14e55cbf-9e7f-4e32-b754-021a09ebae50",
   "metadata": {},
   "outputs": [],
   "source": [
    "#Deep Q-Learning\n",
    "\n",
    "class Network(nn.Module):\n",
    "    def __init__(self):\n",
    "        super().__init__()\n",
    "        self.input_shape = env.observation_space.shape\n",
    "        self.action_space = action_space\n",
    "        \n",
    "        self.fc1 = nn.Linear(*self.input_shape, FC1_dim)\n",
    "        self.fc2 = nn.Linear(FC1_dim, FC2_dim)\n",
    "        self.fc3 = nn.Linear(FC2_dim, self.action_space)\n",
    "\n",
    "        self.optimizer = optim.Adam(self.parameters(), lr=lr)\n",
    "        self.loss = nn.MSELoss()\n",
    "        \n",
    "    def forward(self, x):\n",
    "        x = F.relu(self.fc1(x))\n",
    "        x = F.relu(self.fc2(x))\n",
    "        x = self.fc3(x)\n",
    "        return x\n",
    "    \n",
    "class ReplayBuffer:\n",
    "    def __init__(self):\n",
    "        self.mem_count = 0\n",
    "        self.states = np.zeros((memory_size, *env.observation_space.shape),dtype=np.float32)\n",
    "        self.actions = np.zeros(memory_size, dtype=np.int64)\n",
    "        self.rewards = np.zeros(memory_size, dtype=np.float32)\n",
    "        self.states_ = np.zeros((memory_size, *env.observation_space.shape),dtype=np.float32)\n",
    "        self.dones = np.zeros(memory_size, dtype=np.bool_)\n",
    "    \n",
    "    def add(self, state, action, reward, state_, done):\n",
    "        mem_index = self.mem_count % memory_size\n",
    "        self.states[mem_index]  = state\n",
    "        self.actions[mem_index] = action\n",
    "        self.rewards[mem_index] = reward\n",
    "        self.states_[mem_index] = state_\n",
    "        self.dones[mem_index] =  1 - done\n",
    "        self.mem_count += 1\n",
    "    \n",
    "    def sample(self):\n",
    "        mem_max = min(self.mem_count, memory_size)\n",
    "        batch_indices = np.random.choice(mem_max, batch, replace=True)\n",
    "        states  = self.states[batch_indices]\n",
    "        actions = self.actions[batch_indices]\n",
    "        rewards = self.rewards[batch_indices]\n",
    "        states_ = self.states_[batch_indices]\n",
    "        dones   = self.dones[batch_indices]\n",
    "        return states, actions, rewards, states_, dones\n",
    "    \n",
    "class DQN_Solver:\n",
    "    def __init__(self):\n",
    "        \n",
    "        self.memory = ReplayBuffer()\n",
    "        self.exploration_rate = explore_max\n",
    "        self.network = Network()\n",
    "\n",
    "    def choose_action(self, observation):\n",
    "        if random.random() < self.exploration_rate:\n",
    "            return env.action_space.sample() \n",
    "        state = torch.tensor(observation).float().detach()\n",
    "        state = state.unsqueeze(0)\n",
    "        q_values = self.network(state)\n",
    "        return torch.argmax(q_values).item()\n",
    "    \n",
    "    def learn(self):\n",
    "        states, actions, rewards, states_, dones = self.memory.sample()\n",
    "        states = torch.tensor(states , dtype=torch.float32)\n",
    "        actions = torch.tensor(actions, dtype=torch.long)\n",
    "        rewards = torch.tensor(rewards, dtype=torch.float32)\n",
    "        states_ = torch.tensor(states_, dtype=torch.float32)\n",
    "        dones = torch.tensor(dones, dtype=torch.bool)\n",
    "        batch_indices = np.arange(batch, dtype=np.int64)\n",
    "\n",
    "        q_values = self.network(states)\n",
    "        next_q_values = self.network(states_)\n",
    "        predicted_value_of_now = q_values[batch_indices, actions]\n",
    "        predicted_value_of_future = torch.max(next_q_values, dim=1)[0]\n",
    "        q_target = rewards + gamma * predicted_value_of_future * dones\n",
    "\n",
    "        loss = self.network.loss(q_target, predicted_value_of_now)\n",
    "        self.network.optimizer.zero_grad()\n",
    "        loss.backward()\n",
    "        self.network.optimizer.step()\n",
    "\n",
    "        self.exploration_rate *= explore_decay\n",
    "        self.exploration_rate = max(explore_min, self.exploration_rate)\n",
    "\n",
    "    def returning_epsilon(self):\n",
    "        return self.exploration_rate\n",
    "    \n",
    "agent = DQN_Solver()"
   ]
  },
  {
   "cell_type": "code",
   "execution_count": null,
   "id": "53bb7de6-f39f-4157-9bb5-b560a2445324",
   "metadata": {},
   "outputs": [
    {
     "ename": "NameError",
     "evalue": "name 'episodes' is not defined",
     "output_type": "error",
     "traceback": [
      "\u001b[0;31m---------------------------------------------------------------------------\u001b[0m",
      "\u001b[0;31mNameError\u001b[0m                                 Traceback (most recent call last)",
      "\u001b[0;32m/var/folders/bk/km4jr97x4t3386lc8kvtzh300000gn/T/ipykernel_907/1428490660.py\u001b[0m in \u001b[0;36m<module>\u001b[0;34m\u001b[0m\n\u001b[0;32m----> 1\u001b[0;31m \u001b[0;32mfor\u001b[0m \u001b[0mi\u001b[0m \u001b[0;32min\u001b[0m \u001b[0mrange\u001b[0m\u001b[0;34m(\u001b[0m\u001b[0;36m1\u001b[0m\u001b[0;34m,\u001b[0m \u001b[0mepisodes\u001b[0m\u001b[0;34m)\u001b[0m\u001b[0;34m:\u001b[0m\u001b[0;34m\u001b[0m\u001b[0;34m\u001b[0m\u001b[0m\n\u001b[0m\u001b[1;32m      2\u001b[0m     \u001b[0mstate\u001b[0m \u001b[0;34m=\u001b[0m \u001b[0menv\u001b[0m\u001b[0;34m.\u001b[0m\u001b[0mreset\u001b[0m\u001b[0;34m(\u001b[0m\u001b[0;34m)\u001b[0m\u001b[0;34m\u001b[0m\u001b[0;34m\u001b[0m\u001b[0m\n\u001b[1;32m      3\u001b[0m     \u001b[0mstate\u001b[0m \u001b[0;34m=\u001b[0m \u001b[0mnp\u001b[0m\u001b[0;34m.\u001b[0m\u001b[0mreshape\u001b[0m\u001b[0;34m(\u001b[0m\u001b[0mstate\u001b[0m\u001b[0;34m,\u001b[0m \u001b[0;34m[\u001b[0m\u001b[0;36m1\u001b[0m\u001b[0;34m,\u001b[0m \u001b[0mobservation_space\u001b[0m\u001b[0;34m]\u001b[0m\u001b[0;34m)\u001b[0m\u001b[0;34m\u001b[0m\u001b[0;34m\u001b[0m\u001b[0m\n\u001b[1;32m      4\u001b[0m     \u001b[0mscore\u001b[0m \u001b[0;34m=\u001b[0m \u001b[0;36m0\u001b[0m\u001b[0;34m\u001b[0m\u001b[0;34m\u001b[0m\u001b[0m\n\u001b[1;32m      5\u001b[0m \u001b[0;34m\u001b[0m\u001b[0m\n",
      "\u001b[0;31mNameError\u001b[0m: name 'episodes' is not defined"
     ]
    }
   ],
   "source": [
    "for i in range(1, episodes):\n",
    "    state = env.reset()\n",
    "    state = np.reshape(state, [1, observation_space])\n",
    "    score = 0\n",
    "\n",
    "    while True:\n",
    "        #env.render()\n",
    "        action = agent.choose_action(state)\n",
    "        state_, reward, done, info = env.step(action)[:4]\n",
    "        state_ = np.reshape(state_, [1, observation_space])\n",
    "        agent.memory.add(state, action, reward, state_, done)\n",
    "        agent.learn()\n",
    "        state = state_\n",
    "        score += reward\n",
    "\n",
    "        if done:\n",
    "            if score > best_reward:\n",
    "                best_reward = score\n",
    "            average_reward += score \n",
    "            if (i + 1) % 10 == 0:\n",
    "                print(\"Episode {} Average Reward {} Best Reward {} Last Reward {} Epsilon {}\".format(i, average_reward/i, best_reward, score, agent.returning_epsilon()))\n",
    "            break\n",
    "            \n",
    "    episode_number.append(i)\n",
    "    rewards.append(score)\n",
    "    average_reward_number.append(average_reward/i)\n",
    "\n",
    "plt.plot(episode_number, rewards)\n",
    "plt.plot(episode_number, average_reward_number, color = 'g')\n",
    "plt.show()"
   ]
  },
  {
   "cell_type": "code",
   "execution_count": 5,
   "id": "6165736e-22df-4783-ad8d-6108aef833de",
   "metadata": {},
   "outputs": [
    {
     "data": {
      "image/png": "[encoded data removed]",
      "text/plain": [
       "<Figure size 432x288 with 1 Axes>"
      ]
     },
     "metadata": {
      "needs_background": "light"
     },
     "output_type": "display_data"
    },
    {
     "name": "stdout",
     "output_type": "stream",
     "text": [
      "Score: 273.0\n"
     ]
    },
    {
     "data": {
      "text/plain": [
       "<bound method Wrapper.close of <TimeLimit<OrderEnforcing<StepAPICompatibility<PassiveEnvChecker<CartPoleEnv<CartPole-v1>>>>>>>"
      ]
     },
     "execution_count": 5,
     "metadata": {},
     "output_type": "execute_result"
    }
   ],
   "source": [
    "random.seed(29)  \n",
    "score = 0\n",
    "state = env.reset()\n",
    "done = False\n",
    "  \n",
    "while not done:\n",
    "    clear_output(wait=True)\n",
    "    plt.imshow(env.render('rgb_array'))\n",
    "    show()\n",
    "    action = agent.choose_action(state)\n",
    "    state_, reward, done, info = env.step(action)[:4]\n",
    "    state_ = np.reshape(state_, [1, observation_space])\n",
    "    state = state_\n",
    "    score += reward\n",
    "    \n",
    "print('Score:', score)\n",
    "env.close"
   ]
  },
  {
   "cell_type": "code",
   "execution_count": 4,
   "id": "f112cca7-c582-46e6-b5b6-7bd02ddb5d68",
   "metadata": {},
   "outputs": [
    {
     "name": "stdout",
     "output_type": "stream",
     "text": [
      "Episode 9 Average Reward 16.88888888888889 Best Reward 25.0 Last Reward 20.0 Epsilon 0.2170448966728076\n",
      "Episode 19 Average Reward 27.842105263157894 Best Reward 59.0 Last Reward 47.0 Epsilon 0.01\n",
      "Episode 29 Average Reward 51.41379310344828 Best Reward 151.0 Last Reward 72.0 Epsilon 0.01\n",
      "Episode 39 Average Reward 84.64102564102564 Best Reward 268.0 Last Reward 166.0 Epsilon 0.01\n",
      "Episode 49 Average Reward 97.95918367346938 Best Reward 268.0 Last Reward 21.0 Epsilon 0.01\n",
      "Episode 59 Average Reward 105.91525423728814 Best Reward 343.0 Last Reward 343.0 Epsilon 0.01\n",
      "Episode 69 Average Reward 118.72463768115942 Best Reward 446.0 Last Reward 167.0 Epsilon 0.01\n",
      "Episode 79 Average Reward 144.1012658227848 Best Reward 508.0 Last Reward 263.0 Epsilon 0.01\n",
      "Episode 89 Average Reward 158.26966292134833 Best Reward 508.0 Last Reward 244.0 Epsilon 0.01\n",
      "Episode 99 Average Reward 172.33333333333334 Best Reward 508.0 Last Reward 448.0 Epsilon 0.01\n"
     ]
    },
    {
     "data": {
      "image/png": "[encoded data removed]",
      "text/plain": [
       "<Figure size 432x288 with 1 Axes>"
      ]
     },
     "metadata": {
      "needs_background": "light"
     },
     "output_type": "display_data"
    }
   ],
   "source": [
    "for i in range(1, episodes):\n",
    "    state = env.reset()\n",
    "    state = np.reshape(state, [1, observation_space])\n",
    "    score = 0\n",
    "\n",
    "    while True:\n",
    "        #env.render()\n",
    "        action = agent.choose_action(state)\n",
    "        state_, reward, done, info = env.step(action)[:4]\n",
    "        state_ = np.reshape(state_, [1, observation_space])\n",
    "        agent.memory.add(state, action, reward, state_, done)\n",
    "        agent.learn()\n",
    "        state = state_\n",
    "        score += reward\n",
    "\n",
    "        if done:\n",
    "            if score > best_reward:\n",
    "                best_reward = score\n",
    "            average_reward += score \n",
    "            if (i + 1) % 10 == 0:\n",
    "                print(\"Episode {} Average Reward {} Best Reward {} Last Reward {} Epsilon {}\".format(i, average_reward/i, best_reward, score, agent.returning_epsilon()))\n",
    "            break\n",
    "            \n",
    "    episode_number.append(i)\n",
    "    rewards.append(score)\n",
    "    average_reward_number.append(average_reward/i)\n",
    "\n",
    "plt.plot(episode_number, rewards)\n",
    "plt.plot(episode_number, average_reward_number, color = 'g')\n",
    "plt.show()"
   ]
  },
  {
   "cell_type": "code",
   "execution_count": 6,
   "id": "462d7792-183f-47dc-b8a9-b357ec915cad",
   "metadata": {},
   "outputs": [],
   "source": [
    "env = gym.make('CartPole-v1', new_step_api = True)\n",
    "observation_space = env.observation_space.shape[0]\n",
    "action_space = env.action_space.n\n",
    "\n",
    "episodes = 100\n",
    "lr = 0.0001\n",
    "memory_size = 10000\n",
    "batch = 64\n",
    "gamma = 0.95\n",
    "explore_max = 1.0\n",
    "explore_decay = 0.99\n",
    "explore_min = 0.01\n",
    "\n",
    "FC1_dim = 1024\n",
    "FC2_dim = 512\n",
    "\n",
    "device = torch.device(\"cpu\")\n",
    "\n",
    "best_reward = 0\n",
    "average_reward = 0\n",
    "episode_number = []\n",
    "average_reward_number = []\n",
    "rewards = []"
   ]
  },
  {
   "cell_type": "code",
   "execution_count": 7,
   "id": "83f9f0f2-e74e-4a3a-9499-299a2522c8c9",
   "metadata": {},
   "outputs": [],
   "source": [
    "#Deep Q-Learning with Main and Target Network\n",
    "\n",
    "class Network(nn.Module):\n",
    "    def __init__(self):\n",
    "        super().__init__()\n",
    "        self.input_shape = env.observation_space.shape\n",
    "        self.action_space = action_space\n",
    "        \n",
    "        self.fc1 = nn.Linear(*self.input_shape, FC1_dim)\n",
    "        self.fc2 = nn.Linear(FC1_dim, FC2_dim)\n",
    "        self.fc3 = nn.Linear(FC2_dim, self.action_space)\n",
    "\n",
    "        self.optimizer = optim.Adam(self.parameters(), lr=lr)\n",
    "        self.loss = nn.MSELoss()\n",
    "        \n",
    "    def forward(self, x):\n",
    "        x = F.relu(self.fc1(x))\n",
    "        x = F.relu(self.fc2(x))\n",
    "        x = self.fc3(x)\n",
    "        return x\n",
    "    \n",
    "class ReplayBuffer:\n",
    "    def __init__(self):\n",
    "        self.mem_count = 0\n",
    "        self.states = np.zeros((memory_size, *env.observation_space.shape),dtype=np.float32)\n",
    "        self.actions = np.zeros(memory_size, dtype=np.int64)\n",
    "        self.rewards = np.zeros(memory_size, dtype=np.float32)\n",
    "        self.states_ = np.zeros((memory_size, *env.observation_space.shape),dtype=np.float32)\n",
    "        self.dones = np.zeros(memory_size, dtype=np.bool_)\n",
    "    \n",
    "    def add(self, state, action, reward, state_, done):\n",
    "        mem_index = self.mem_count % memory_size\n",
    "        self.states[mem_index]  = state\n",
    "        self.actions[mem_index] = action\n",
    "        self.rewards[mem_index] = reward\n",
    "        self.states_[mem_index] = state_\n",
    "        self.dones[mem_index] =  1 - done\n",
    "        self.mem_count += 1\n",
    "    \n",
    "    def sample(self):\n",
    "        mem_max = min(self.mem_count, memory_size)\n",
    "        batch_indices = np.random.choice(mem_max, batch, replace=True)\n",
    "        states  = self.states[batch_indices]\n",
    "        actions = self.actions[batch_indices]\n",
    "        rewards = self.rewards[batch_indices]\n",
    "        states_ = self.states_[batch_indices]\n",
    "        dones   = self.dones[batch_indices]\n",
    "        return states, actions, rewards, states_, dones\n",
    "    \n",
    "class DQN_Solver:\n",
    "    def __init__(self):\n",
    "        self.memory = ReplayBuffer()\n",
    "        self.exploration_rate = explore_max\n",
    "        self.main = Network()\n",
    "        self.target = Network()\n",
    "        self.learn_count = 0\n",
    "\n",
    "    def choose_action(self, observation):\n",
    "        if random.random() < self.exploration_rate:\n",
    "            return env.action_space.sample() \n",
    "        state = torch.tensor(observation).float().detach()\n",
    "        state = state.unsqueeze(0)\n",
    "        q_values = self.target(state)\n",
    "        return torch.argmax(q_values).item()\n",
    "    \n",
    "    def learn(self):\n",
    "        states, actions, rewards, states_, dones = self.memory.sample()\n",
    "        states = torch.tensor(states , dtype=torch.float32)\n",
    "        actions = torch.tensor(actions, dtype=torch.long)\n",
    "        rewards = torch.tensor(rewards, dtype=torch.float32)\n",
    "        states_ = torch.tensor(states_, dtype=torch.float32)\n",
    "        dones = torch.tensor(dones, dtype=torch.bool)\n",
    "        batch_indices = np.arange(batch, dtype=np.int64)\n",
    "\n",
    "        q_values = self.main(states)\n",
    "        next_q_values = self.main(states_)\n",
    "        predicted_value_of_now = q_values[batch_indices, actions]\n",
    "        predicted_value_of_future = torch.max(next_q_values, dim=1)[0]\n",
    "        q_target = rewards + gamma * predicted_value_of_future * dones\n",
    "\n",
    "        loss = self.main.loss(q_target, predicted_value_of_now)\n",
    "        self.main.optimizer.zero_grad()\n",
    "        loss.backward()\n",
    "        self.main.optimizer.step()\n",
    "\n",
    "        self.exploration_rate *= explore_decay\n",
    "        self.exploration_rate = max(explore_min, self.exploration_rate)\n",
    "        \n",
    "        if self.learn_count % 10 == 0:\n",
    "            self.update_weights()\n",
    "\n",
    "    def update_weights(self):\n",
    "        self.target.load_state_dict(self.main.state_dict())\n",
    "        \n",
    "    def returning_epsilon(self):\n",
    "        return self.exploration_rate\n",
    "    \n",
    "agent = DQN_Solver()"
   ]
  },
  {
   "cell_type": "code",
   "execution_count": 8,
   "id": "1d3499a4-fe69-4d01-87ca-2cc13e525389",
   "metadata": {},
   "outputs": [
    {
     "name": "stdout",
     "output_type": "stream",
     "text": [
      "Episode 9 Average Reward 27.77777777777778 Best Reward 49.0 Last Reward 19.0 Epsilon 0.08105851616218133\n",
      "Episode 19 Average Reward 28.105263157894736 Best Reward 63.0 Last Reward 23.0 Epsilon 0.01\n",
      "Episode 29 Average Reward 35.03448275862069 Best Reward 64.0 Last Reward 32.0 Epsilon 0.01\n",
      "Episode 39 Average Reward 46.97435897435897 Best Reward 181.0 Last Reward 181.0 Epsilon 0.01\n",
      "Episode 49 Average Reward 75.46938775510205 Best Reward 295.0 Last Reward 295.0 Epsilon 0.01\n",
      "Episode 59 Average Reward 95.67796610169492 Best Reward 313.0 Last Reward 239.0 Epsilon 0.01\n",
      "Episode 69 Average Reward 113.94202898550725 Best Reward 343.0 Last Reward 188.0 Epsilon 0.01\n",
      "Episode 79 Average Reward 129.9873417721519 Best Reward 490.0 Last Reward 262.0 Epsilon 0.01\n",
      "Episode 89 Average Reward 142.12359550561797 Best Reward 490.0 Last Reward 207.0 Epsilon 0.01\n",
      "Episode 99 Average Reward 153.24242424242425 Best Reward 490.0 Last Reward 231.0 Epsilon 0.01\n"
     ]
    },
    {
     "data": {
      "image/png": "[encoded data removed]",
      "text/plain": [
       "<Figure size 432x288 with 1 Axes>"
      ]
     },
     "metadata": {
      "needs_background": "light"
     },
     "output_type": "display_data"
    }
   ],
   "source": [
    "for i in range(1, episodes):\n",
    "    state = env.reset()\n",
    "    state = np.reshape(state, [1, observation_space])\n",
    "    score = 0\n",
    "\n",
    "    while True:\n",
    "        #env.render()\n",
    "        action = agent.choose_action(state)\n",
    "        state_, reward, done, info = env.step(action)[:4]\n",
    "        state_ = np.reshape(state_, [1, observation_space])\n",
    "        agent.memory.add(state, action, reward, state_, done)\n",
    "        agent.learn()\n",
    "        state = state_\n",
    "        score += reward\n",
    "\n",
    "        if done:\n",
    "            if score > best_reward:\n",
    "                best_reward = score\n",
    "            average_reward += score \n",
    "            if (i + 1) % 10 == 0:\n",
    "                print(\"Episode {} Average Reward {} Best Reward {} Last Reward {} Epsilon {}\".format(i, average_reward/i, best_reward, score, agent.returning_epsilon()))\n",
    "            break\n",
    "            \n",
    "    episode_number.append(i)\n",
    "    rewards.append(score)\n",
    "    average_reward_number.append(average_reward/i)\n",
    "\n",
    "\n",
    "plt.plot(episode_number, rewards)\n",
    "plt.plot(episode_number, average_reward_number, color = 'g')\n",
    "plt.show()"
   ]
  },
  {
   "cell_type": "code",
   "execution_count": 9,
   "id": "6a186e6b-fca7-46fe-bc2f-8f5c770d2a1a",
   "metadata": {},
   "outputs": [
    {
     "data": {
      "image/png": "[encoded data removed]",
      "text/plain": [
       "<Figure size 432x288 with 1 Axes>"
      ]
     },
     "metadata": {
      "needs_background": "light"
     },
     "output_type": "display_data"
    },
    {
     "name": "stdout",
     "output_type": "stream",
     "text": [
      "Score: 230.0\n"
     ]
    },
    {
     "data": {
      "text/plain": [
       "<bound method Wrapper.close of <TimeLimit<OrderEnforcing<StepAPICompatibility<PassiveEnvChecker<CartPoleEnv<CartPole-v1>>>>>>>"
      ]
     },
     "execution_count": 9,
     "metadata": {},
     "output_type": "execute_result"
    }
   ],
   "source": [
    "random.seed(29)  \n",
    "score = 0\n",
    "state = env.reset()\n",
    "done = False\n",
    "  \n",
    "while not done:\n",
    "    clear_output(wait=True)\n",
    "    plt.imshow(env.render('rgb_array'))\n",
    "    show()\n",
    "    action = agent.choose_action(state)\n",
    "    state_, reward, done, info = env.step(action)[:4]\n",
    "    state_ = np.reshape(state_, [1, observation_space])\n",
    "    state = state_\n",
    "    score += reward\n",
    "    \n",
    "print('Score:', score)\n",
    "env.close"
   ]
  }
 ],
 "metadata": {
  "kernelspec": {
   "display_name": "Python 3 (ipykernel)",
   "language": "python",
   "name": "python3"
  },
  "language_info": {
   "codemirror_mode": {
    "name": "ipython",
    "version": 3
   },
   "file_extension": ".py",
   "mimetype": "text/x-python",
   "name": "python",
   "nbconvert_exporter": "python",
   "pygments_lexer": "ipython3",
   "version": "3.9.7"
  }
 },
 "nbformat": 4,
 "nbformat_minor": 5
}
