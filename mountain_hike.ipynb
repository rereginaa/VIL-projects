{
 "cells": [
  {
   "cell_type": "code",
   "execution_count": 27,
   "id": "25c180c4-5b5f-4a90-bf6c-e3e0d8e796c9",
   "metadata": {},
   "outputs": [
    {
     "name": "stdout",
     "output_type": "stream",
     "text": [
      "[0.42480083 0.09736864]\n",
      "0.1579550389992691\n",
      "0.95\n",
      "[ 0.26364488 -0.62260597]\n",
      "0.06267638444953308\n"
     ]
    }
   ],
   "source": [
    "import numpy as np\n",
    "import math\n",
    "import numpy.random\n",
    "import scipy\n",
    "import scipy.stats\n",
    "\n",
    "def truncate(a):\n",
    "    dist = math.sqrt(a[0]**2 + a[1]**2)\n",
    "    if dist > 0.5:\n",
    "        a_truncate = [x / dist * .5 for x in a]\n",
    "    else:\n",
    "        a_truncate = a\n",
    "    return a_truncate\n",
    "\n",
    "def torus_board_full(s, border):\n",
    "    s[0] = (s[0] + border) % (2*border) - border\n",
    "    s[1] = (s[1] + border) % (2*border) - border\n",
    "    return s\n",
    "\n",
    "def transition_likelihood_full(s, a, sPrime, truncate):\n",
    "    a_truncate = truncate(a)\n",
    "    x_pdf = scipy.stats.norm.pdf(sPrime[0], s[0] + a_truncate[0], 1)\n",
    "    y_pdf = scipy.stats.norm.pdf(sPrime[1], s[1] + a_truncate[1], 1)\n",
    "    return x_pdf*y_pdf\n",
    "\n",
    "def transition_full(s, a, sPrime, torus_board): #(s, a, sPrime)?\n",
    "    #I = np.ones(len(s))\n",
    "    sPrime = numpy.random.normal(s[0]+truncate(a)[0], 0.25, 1)\n",
    "    sPrime = np.concatenate((sPrime, numpy.random.normal(s[1]+truncate(a)[1], 0.25, 1)))\n",
    "    return torus_board(sPrime)\n",
    "\n",
    "def transition_reward_full(s, a, sPrime, r, torus_board): #?(s, a, sPrime)\n",
    "    sPrime = torus_board(sPrime)\n",
    "    a = truncate(a)\n",
    "    dist = math.sqrt(a[0]**2 + a[1]**2)\n",
    "    return r(sPrime) - 0.1*dist\n",
    "\n",
    "def observation(sPrime, o, sigmaO): #?(sPrime, a, o)\n",
    "    obs = numpy.random.normal(sPrime[0], sigmaO, 1)\n",
    "    obs = np.concatenate((obs, numpy.random.normal(sPrime[1], sigmaO, 1)))\n",
    "    return obs\n",
    "\n",
    "def observation_likelihood(sPrime, o, sigmaO):\n",
    "    x_pdf = scipy.stats.norm.pdf(sPrime[0], o[0], sigmaO)\n",
    "    y_pdf = scipy.stats.norm.pdf(sPrime[1], o[1], sigmaO)\n",
    "    return x_pdf*y_pdf\n",
    "\n",
    "def main():\n",
    "    border = 10\n",
    "    r = lambda sPrime: 1\n",
    "    torus_board = lambda s: torus_board_full(s, border)\n",
    "    transition = lambda s, a, sPrime: transition_full(s, a, sPrime, torus_board)\n",
    "    transition_reward = lambda s, a, sPrime: transition_reward_full(s, a, sPrime, r, torus_board)\n",
    "    transition_likelihood = lambda s, a, sPrime: transition_likelihood_full(s, a, sPrime, truncate)\n",
    "\n",
    "\n",
    "    s = [0, 0]\n",
    "    a = [.6, 0]\n",
    "    sigma0 = [0, 1.5, 3]\n",
    "    sPrime = [.4, 0]\n",
    "\n",
    "\n",
    "    sPrime = transition(s, a, sPrime)\n",
    "\n",
    "    print(sPrime)\n",
    "\n",
    "    sPrime_pdf = transition_likelihood(s, a, sPrime)\n",
    "\n",
    "    print(sPrime_pdf)\n",
    "\n",
    "    reward = transition_reward(s, a, sPrime)\n",
    "    print(reward)\n",
    "\n",
    "    obs = observation(sPrime, 1, sigma0[1])\n",
    "    print(obs)\n",
    "    obs_pdf = observation_likelihood(sPrime, obs, sigma0[1])\n",
    "    print(obs_pdf)\n",
    "\n",
    "if __name__ == '__main__':\n",
    "    main()"
   ]
  },
  {
   "cell_type": "code",
   "execution_count": 28,
   "id": "4a12b253-9ab3-4b6f-b2c4-fe50405a05f0",
   "metadata": {},
   "outputs": [
    {
     "name": "stdout",
     "output_type": "stream",
     "text": [
      "[ 0.64875888 -0.11616688]\n",
      "0.15634517745263668\n",
      "0.95\n",
      "[ 1.64968084 -1.3253403 ]\n",
      "0.04091123158904469\n"
     ]
    }
   ],
   "source": [
    "main()"
   ]
  },
  {
   "cell_type": "code",
   "execution_count": 3,
   "id": "6a9a80fb-aba9-4255-89be-4407777f2eb1",
   "metadata": {},
   "outputs": [
    {
     "data": {
      "text/plain": [
       "[0.1, 0.2]"
      ]
     },
     "execution_count": 3,
     "metadata": {},
     "output_type": "execute_result"
    }
   ],
   "source": [
    "truncate([0.1, 0.2])"
   ]
  },
  {
   "cell_type": "code",
   "execution_count": 16,
   "id": "f32a969f-ddec-4b96-89a3-349301832819",
   "metadata": {},
   "outputs": [
    {
     "data": {
      "text/plain": [
       "[0.5, 0.0]"
      ]
     },
     "execution_count": 16,
     "metadata": {},
     "output_type": "execute_result"
    }
   ],
   "source": [
    "truncate([0, 50])"
   ]
  },
  {
   "cell_type": "code",
   "execution_count": 19,
   "id": "f81b3307-95bb-4ae5-a511-a48fc51ee5c4",
   "metadata": {},
   "outputs": [
    {
     "data": {
      "text/plain": [
       "[0.00999800059980007, 0.49990002999000355]"
      ]
     },
     "execution_count": 19,
     "metadata": {},
     "output_type": "execute_result"
    }
   ],
   "source": [
    "truncate([1, 50])"
   ]
  },
  {
   "cell_type": "code",
   "execution_count": 32,
   "id": "2a7df704-dfb7-4ed8-96a5-95dd65fd6857",
   "metadata": {},
   "outputs": [],
   "source": [
    "torus_board = lambda s: torus_board_full(s, 10)"
   ]
  },
  {
   "cell_type": "code",
   "execution_count": 24,
   "id": "ae1a3331-a594-43a7-bcaa-d17aca2b3303",
   "metadata": {},
   "outputs": [
    {
     "name": "stdout",
     "output_type": "stream",
     "text": [
      "True\n"
     ]
    }
   ],
   "source": [
    "#truncate\n",
    "check = []\n",
    "for i in range(1000): \n",
    "    x = [np.random.uniform(1, 1000000000000), np.random.uniform(1, 1000000000000)]\n",
    "    x = truncate(x) \n",
    "    if math.sqrt(x[0]**2 + x[1]**2) <= 0.5: \n",
    "        check.append(True) \n",
    "print(all(check))"
   ]
  },
  {
   "cell_type": "code",
   "execution_count": 17,
   "id": "9a41718c-bbd6-4ec2-a170-a9064e61313f",
   "metadata": {},
   "outputs": [
    {
     "data": {
      "text/plain": [
       "[5, -5]"
      ]
     },
     "execution_count": 17,
     "metadata": {},
     "output_type": "execute_result"
    }
   ],
   "source": [
    "torus_board_full([-55, 75], 10)"
   ]
  },
  {
   "cell_type": "code",
   "execution_count": 20,
   "id": "9f61442e-76b5-43ef-a9e8-7d4173040c58",
   "metadata": {},
   "outputs": [
    {
     "data": {
      "text/plain": [
       "[-4, 0]"
      ]
     },
     "execution_count": 20,
     "metadata": {},
     "output_type": "execute_result"
    }
   ],
   "source": [
    "torus_board_full([16, 0], 10)"
   ]
  },
  {
   "cell_type": "code",
   "execution_count": 21,
   "id": "a485260e-3691-4a75-870c-b88cf309011e",
   "metadata": {},
   "outputs": [
    {
     "data": {
      "text/plain": [
       "[3, -10]"
      ]
     },
     "execution_count": 21,
     "metadata": {},
     "output_type": "execute_result"
    }
   ],
   "source": [
    "torus_board_full([3, 10], 10)"
   ]
  },
  {
   "cell_type": "code",
   "execution_count": 33,
   "id": "48fd63d2-0db5-4b68-89df-b0dd9f62f4db",
   "metadata": {},
   "outputs": [],
   "source": [
    "#transition_full\n",
    "check = []\n",
    "s = [0, 0]\n",
    "a = [1, 0]\n",
    "for i in range(10000): \n",
    "    np.random.seed(1000)\n",
    "    sprime = transition_full(s, a, [100000, 0], torus_board)\n",
    "    s = sprime\n",
    "    check.append(s)\n",
    "#why is sPrime predetermined if it's not used in the function? Changing the value of sprime while setting the seed yields no difference"
   ]
  },
  {
   "cell_type": "code",
   "execution_count": 21,
   "id": "21ea4153-fe34-409e-8144-cc691b979b03",
   "metadata": {},
   "outputs": [
    {
     "data": {
      "text/plain": [
       "[<matplotlib.lines.Line2D at 0x7faf50f6a4f0>]"
      ]
     },
     "execution_count": 21,
     "metadata": {},
     "output_type": "execute_result"
    },
    {
     "data": {
      "image/png": "[encoded data removed]",
      "text/plain": [
       "<Figure size 432x288 with 1 Axes>"
      ]
     },
     "metadata": {
      "needs_background": "light"
     },
     "output_type": "display_data"
    }
   ],
   "source": [
    "import matplotlib.pyplot as plt \n",
    "plt.plot(*zip(*check[:500]))"
   ]
  },
  {
   "cell_type": "code",
   "execution_count": 32,
   "id": "cba49831-0a92-4598-b5aa-57e4b833851f",
   "metadata": {},
   "outputs": [
    {
     "data": {
      "text/plain": [
       "(array([3.000e+00, 0.000e+00, 4.000e+00, 1.400e+01, 1.600e+01, 3.100e+01,\n",
       "        4.600e+01, 6.000e+01, 1.300e+02, 1.670e+02, 3.100e+02, 4.230e+02,\n",
       "        5.840e+02, 9.200e+02, 1.257e+03, 1.647e+03, 2.186e+03, 2.782e+03,\n",
       "        3.397e+03, 4.174e+03, 4.650e+03, 5.495e+03, 5.763e+03, 6.283e+03,\n",
       "        6.540e+03, 6.634e+03, 6.551e+03, 6.334e+03, 5.837e+03, 5.228e+03,\n",
       "        4.689e+03, 3.992e+03, 3.411e+03, 2.782e+03, 2.121e+03, 1.668e+03,\n",
       "        1.227e+03, 8.480e+02, 6.300e+02, 4.000e+02, 2.890e+02, 1.790e+02,\n",
       "        1.150e+02, 8.700e+01, 4.600e+01, 2.100e+01, 1.200e+01, 1.300e+01,\n",
       "        2.000e+00, 2.000e+00]),\n",
       " array([-7.14548019e-01, -6.72584449e-01, -6.30620878e-01, -5.88657308e-01,\n",
       "        -5.46693737e-01, -5.04730167e-01, -4.62766596e-01, -4.20803026e-01,\n",
       "        -3.78839455e-01, -3.36875885e-01, -2.94912314e-01, -2.52948744e-01,\n",
       "        -2.10985173e-01, -1.69021603e-01, -1.27058032e-01, -8.50944615e-02,\n",
       "        -4.31308910e-02, -1.16732044e-03,  4.07962501e-02,  8.27598206e-02,\n",
       "         1.24723391e-01,  1.66686962e-01,  2.08650532e-01,  2.50614103e-01,\n",
       "         2.92577673e-01,  3.34541244e-01,  3.76504814e-01,  4.18468385e-01,\n",
       "         4.60431955e-01,  5.02395526e-01,  5.44359096e-01,  5.86322667e-01,\n",
       "         6.28286237e-01,  6.70249808e-01,  7.12213378e-01,  7.54176949e-01,\n",
       "         7.96140519e-01,  8.38104090e-01,  8.80067660e-01,  9.22031231e-01,\n",
       "         9.63994802e-01,  1.00595837e+00,  1.04792194e+00,  1.08988551e+00,\n",
       "         1.13184908e+00,  1.17381265e+00,  1.21577622e+00,  1.25773980e+00,\n",
       "         1.29970337e+00,  1.34166694e+00,  1.38363051e+00]),\n",
       " <BarContainer object of 50 artists>)"
      ]
     },
     "execution_count": 32,
     "metadata": {},
     "output_type": "execute_result"
    },
    {
     "data": {
      "image/png": "[encoded data removed]",
      "text/plain": [
       "<Figure size 432x288 with 1 Axes>"
      ]
     },
     "metadata": {
      "needs_background": "light"
     },
     "output_type": "display_data"
    }
   ],
   "source": [
    "x = []\n",
    "y = []\n",
    "s = [0, 0]\n",
    "a = [1, 1]\n",
    "border = 10\n",
    "s_prime = []\n",
    "torus_board = lambda s: torus_board_full(s, border)\n",
    "for i in range(100000): \n",
    "    sprime = transition_full(s, a, [15000, 2000], torus_board)\n",
    "    s_prime.append(sprime)\n",
    "    x.append(sprime[0])\n",
    "    y.append(sprime[1])\n",
    "plt.hist(x, bins = 50)\n",
    "plt.hist(y, bins = 50)"
   ]
  },
  {
   "cell_type": "code",
   "execution_count": 63,
   "id": "819f1024-8a46-4d5d-baff-26d2a165edce",
   "metadata": {},
   "outputs": [
    {
     "name": "stdout",
     "output_type": "stream",
     "text": [
      "0.4997875502530502 0.0019611526981076705\n",
      "0.24990482421130852 0.24875786054552657\n"
     ]
    }
   ],
   "source": [
    "print(np.mean(x), np.mean(y))\n",
    "print(np.std(x), np.std(y))"
   ]
  },
  {
   "cell_type": "code",
   "execution_count": 55,
   "id": "298cd12b-ea2d-4053-9dbf-4858f354429c",
   "metadata": {},
   "outputs": [],
   "source": [
    "#observation \n",
    "x = []\n",
    "y = []\n",
    "s = [50, 90]\n",
    "a = [1, 0]\n",
    "sigma0 = [0, 1.5, 3]\n",
    "for i in range(10000): \n",
    "    obs = observation(s, sigma0[1], 1)\n",
    "    x.append(obs[0])\n",
    "    y.append(obs[1])\n",
    "#o not used in the function"
   ]
  },
  {
   "cell_type": "code",
   "execution_count": 54,
   "id": "6dabf636-8bfa-45b2-a03d-04c67b6a4ab1",
   "metadata": {},
   "outputs": [
    {
     "data": {
      "text/plain": [
       "(array([  5.,   1.,   1.,   7.,   6.,   5.,  11.,  22.,  30.,  43.,  55.,\n",
       "         79., 104., 157., 166., 207., 246., 320., 399., 420., 468., 567.,\n",
       "        581., 608., 598., 589., 572., 519., 516., 479., 420., 382., 329.,\n",
       "        249., 194., 175., 131., 113.,  71.,  50.,  30.,  23.,  17.,  14.,\n",
       "          6.,   3.,   5.,   0.,   2.,   5.]),\n",
       " array([86.30993902, 86.45831528, 86.60669154, 86.7550678 , 86.90344407,\n",
       "        87.05182033, 87.20019659, 87.34857285, 87.49694912, 87.64532538,\n",
       "        87.79370164, 87.9420779 , 88.09045417, 88.23883043, 88.38720669,\n",
       "        88.53558295, 88.68395922, 88.83233548, 88.98071174, 89.129088  ,\n",
       "        89.27746426, 89.42584053, 89.57421679, 89.72259305, 89.87096931,\n",
       "        90.01934558, 90.16772184, 90.3160981 , 90.46447436, 90.61285063,\n",
       "        90.76122689, 90.90960315, 91.05797941, 91.20635568, 91.35473194,\n",
       "        91.5031082 , 91.65148446, 91.79986072, 91.94823699, 92.09661325,\n",
       "        92.24498951, 92.39336577, 92.54174204, 92.6901183 , 92.83849456,\n",
       "        92.98687082, 93.13524709, 93.28362335, 93.43199961, 93.58037587,\n",
       "        93.72875214]),\n",
       " <BarContainer object of 50 artists>)"
      ]
     },
     "execution_count": 54,
     "metadata": {},
     "output_type": "execute_result"
    },
    {
     "data": {
      "image/png": "[encoded data removed]",
      "text/plain": [
       "<Figure size 432x288 with 1 Axes>"
      ]
     },
     "metadata": {
      "needs_background": "light"
     },
     "output_type": "display_data"
    }
   ],
   "source": [
    "plt.hist(x, bins = 50)\n",
    "plt.hist(y, bins = 50)"
   ]
  },
  {
   "cell_type": "code",
   "execution_count": 56,
   "id": "313f571b-9d10-451c-8aa7-c4601a283aa7",
   "metadata": {},
   "outputs": [
    {
     "name": "stdout",
     "output_type": "stream",
     "text": [
      "49.99896109160327 89.98917926259156\n",
      "1.007341885749109 0.9905467198591673\n"
     ]
    }
   ],
   "source": [
    "print(np.mean(x), np.mean(y))\n",
    "print(np.std(x), np.std(y))"
   ]
  },
  {
   "cell_type": "code",
   "execution_count": 27,
   "id": "42234251-3491-480c-80d8-e7b7bcd21e00",
   "metadata": {},
   "outputs": [
    {
     "data": {
      "text/plain": [
       "0.95"
      ]
     },
     "execution_count": 27,
     "metadata": {},
     "output_type": "execute_result"
    }
   ],
   "source": [
    "d = []\n",
    "s = [0, 0]\n",
    "a = [1, 1]\n",
    "r = lambda sPrime: 1\n",
    "transition_reward_full(s, a, [50, 90], r, torus_board)"
   ]
  },
  {
   "cell_type": "code",
   "execution_count": 40,
   "id": "8fa007cc-30b3-4da1-a3ad-5566e624ac27",
   "metadata": {},
   "outputs": [
    {
     "data": {
      "text/plain": [
       "(array([3.000e+00, 2.000e+00, 1.000e+00, 5.000e+00, 6.000e+00, 1.400e+01,\n",
       "        2.100e+01, 2.900e+01, 5.700e+01, 6.300e+01, 8.200e+01, 1.220e+02,\n",
       "        1.660e+02, 2.060e+02, 2.800e+02, 3.730e+02, 4.610e+02, 5.430e+02,\n",
       "        6.730e+02, 8.640e+02, 1.029e+03, 1.209e+03, 1.459e+03, 1.703e+03,\n",
       "        1.947e+03, 2.139e+03, 2.474e+03, 2.739e+03, 3.105e+03, 3.416e+03,\n",
       "        3.528e+03, 3.832e+03, 4.050e+03, 4.318e+03, 4.587e+03, 4.600e+03,\n",
       "        4.822e+03, 4.745e+03, 4.877e+03, 4.781e+03, 4.557e+03, 4.355e+03,\n",
       "        4.222e+03, 3.874e+03, 3.409e+03, 3.052e+03, 2.561e+03, 2.063e+03,\n",
       "        1.559e+03, 1.017e+03]),\n",
       " array([0.03289697, 0.03542207, 0.03794716, 0.04047226, 0.04299736,\n",
       "        0.04552245, 0.04804755, 0.05057265, 0.05309775, 0.05562284,\n",
       "        0.05814794, 0.06067304, 0.06319814, 0.06572323, 0.06824833,\n",
       "        0.07077343, 0.07329852, 0.07582362, 0.07834872, 0.08087382,\n",
       "        0.08339891, 0.08592401, 0.08844911, 0.09097421, 0.0934993 ,\n",
       "        0.0960244 , 0.0985495 , 0.10107459, 0.10359969, 0.10612479,\n",
       "        0.10864989, 0.11117498, 0.11370008, 0.11622518, 0.11875027,\n",
       "        0.12127537, 0.12380047, 0.12632557, 0.12885066, 0.13137576,\n",
       "        0.13390086, 0.13642596, 0.13895105, 0.14147615, 0.14400125,\n",
       "        0.14652634, 0.14905144, 0.15157654, 0.15410164, 0.15662673,\n",
       "        0.15915183]),\n",
       " <BarContainer object of 50 artists>)"
      ]
     },
     "execution_count": 40,
     "metadata": {},
     "output_type": "execute_result"
    },
    {
     "data": {
      "image/png": "[encoded data removed]",
      "text/plain": [
       "<Figure size 432x288 with 1 Axes>"
      ]
     },
     "metadata": {
      "needs_background": "light"
     },
     "output_type": "display_data"
    }
   ],
   "source": [
    "d = []\n",
    "s = [0, 0]\n",
    "a = [0.5, 1] #truncate(a)\n",
    "for i in range(len(s_prime)): \n",
    "    d.append(transition_likelihood_full(s, a, s_prime[i], lambda a: a)) #test without truncate\n",
    "plt.hist(d, bins = 50)"
   ]
  },
  {
   "cell_type": "code",
   "execution_count": 39,
   "id": "0a673129-7889-4b0a-a6d3-903fa22c28cc",
   "metadata": {},
   "outputs": [
    {
     "data": {
      "text/plain": [
       "(array([2.000e+00, 0.000e+00, 1.000e+00, 0.000e+00, 0.000e+00, 2.000e+00,\n",
       "        0.000e+00, 1.000e+00, 4.000e+00, 2.000e+00, 7.000e+00, 8.000e+00,\n",
       "        2.400e+01, 2.000e+01, 3.200e+01, 5.100e+01, 8.000e+01, 7.300e+01,\n",
       "        1.160e+02, 1.720e+02, 2.150e+02, 2.900e+02, 3.920e+02, 4.620e+02,\n",
       "        6.680e+02, 9.280e+02, 1.133e+03, 1.367e+03, 1.704e+03, 2.129e+03,\n",
       "        2.524e+03, 3.043e+03, 3.741e+03, 4.255e+03, 4.758e+03, 5.392e+03,\n",
       "        6.051e+03, 6.407e+03, 6.944e+03, 7.013e+03, 7.158e+03, 6.816e+03,\n",
       "        6.376e+03, 5.669e+03, 4.778e+03, 3.768e+03, 2.742e+03, 1.603e+03,\n",
       "        8.050e+02, 2.740e+02]),\n",
       " array([0.01391442, 0.0139898 , 0.01406519, 0.01414057, 0.01421595,\n",
       "        0.01429134, 0.01436672, 0.0144421 , 0.01451749, 0.01459287,\n",
       "        0.01466825, 0.01474364, 0.01481902, 0.0148944 , 0.01496979,\n",
       "        0.01504517, 0.01512055, 0.01519594, 0.01527132, 0.01534671,\n",
       "        0.01542209, 0.01549747, 0.01557286, 0.01564824, 0.01572362,\n",
       "        0.01579901, 0.01587439, 0.01594977, 0.01602516, 0.01610054,\n",
       "        0.01617592, 0.01625131, 0.01632669, 0.01640207, 0.01647746,\n",
       "        0.01655284, 0.01662822, 0.01670361, 0.01677899, 0.01685437,\n",
       "        0.01692976, 0.01700514, 0.01708053, 0.01715591, 0.01723129,\n",
       "        0.01730668, 0.01738206, 0.01745744, 0.01753283, 0.01760821,\n",
       "        0.01768359]),\n",
       " <BarContainer object of 50 artists>)"
      ]
     },
     "execution_count": 39,
     "metadata": {},
     "output_type": "execute_result"
    },
    {
     "data": {
      "image/png": "[encoded data removed]",
      "text/plain": [
       "<Figure size 432x288 with 1 Axes>"
      ]
     },
     "metadata": {
      "needs_background": "light"
     },
     "output_type": "display_data"
    }
   ],
   "source": [
    "d = []\n",
    "sprime = [1, 1]\n",
    "\n",
    "for i in range(len(s_prime)): \n",
    "    d.append(observation_likelihood(sprime, s_prime[i], 3))\n",
    "plt.hist(d, bins = 50)"
   ]
  },
  {
   "cell_type": "code",
   "execution_count": null,
   "id": "a64ef0e3-44eb-4095-850c-bae03e7895cc",
   "metadata": {},
   "outputs": [],
   "source": []
  }
 ],
 "metadata": {
  "kernelspec": {
   "display_name": "Python 3 (ipykernel)",
   "language": "python",
   "name": "python3"
  },
  "language_info": {
   "codemirror_mode": {
    "name": "ipython",
    "version": 3
   },
   "file_extension": ".py",
   "mimetype": "text/x-python",
   "name": "python",
   "nbconvert_exporter": "python",
   "pygments_lexer": "ipython3",
   "version": "3.9.7"
  }
 },
 "nbformat": 4,
 "nbformat_minor": 5
}
