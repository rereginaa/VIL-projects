{
 "cells": [
  {
   "cell_type": "code",
   "execution_count": 1,
   "id": "495f27c6-732c-4ba6-89b2-1c361bc3aa12",
   "metadata": {},
   "outputs": [],
   "source": [
    "import numpy as np\n",
    "import pandas as pd\n",
    "import matplotlib.pyplot as plt"
   ]
  },
  {
   "cell_type": "code",
   "execution_count": 2,
   "id": "8e76ff94-83da-412d-b478-d43814272034",
   "metadata": {},
   "outputs": [],
   "source": [
    "import torch\n",
    "import torchvision\n",
    "from torchvision import transforms, datasets"
   ]
  },
  {
   "cell_type": "code",
   "execution_count": 3,
   "id": "56dff9fa-9e67-4da6-b534-cf31eedb68bc",
   "metadata": {},
   "outputs": [],
   "source": [
    "import torch.nn as nn \n",
    "import torch.nn.functional as F\n",
    "import torch.optim as optim"
   ]
  },
  {
   "cell_type": "code",
   "execution_count": 4,
   "id": "3245cf6f-3de2-489f-b147-211e963e5c09",
   "metadata": {},
   "outputs": [],
   "source": [
    "train = datasets.MNIST(\"\", train = True, download = True, transform = transforms.Compose([transforms.ToTensor()]))\n",
    "test = datasets.MNIST(\"\", train = False, download = True, transform = transforms.Compose([transforms.ToTensor()]))\n",
    "\n",
    "trainset = torch.utils.data.DataLoader(train, batch_size = 10, shuffle = True)\n",
    "testset = torch.utils.data.DataLoader(test, batch_size = 10, shuffle = True)"
   ]
  },
  {
   "cell_type": "code",
   "execution_count": 5,
   "id": "069c18f7-e312-4533-92de-b55a3cdf63ed",
   "metadata": {},
   "outputs": [
    {
     "name": "stdout",
     "output_type": "stream",
     "text": [
      "Net(\n",
      "  (fc1): Linear(in_features=784, out_features=64, bias=True)\n",
      "  (fc2): Linear(in_features=64, out_features=64, bias=True)\n",
      "  (fc3): Linear(in_features=64, out_features=64, bias=True)\n",
      "  (fc4): Linear(in_features=64, out_features=10, bias=True)\n",
      ")\n"
     ]
    }
   ],
   "source": [
    "class Net(nn.Module): \n",
    "    \n",
    "    def __init__(self): \n",
    "        super().__init__()\n",
    "        self.fc1 = nn.Linear(28*28, 64)\n",
    "        self.fc2 = nn.Linear(64, 64)\n",
    "        self.fc3 = nn.Linear(64, 64)\n",
    "        self.fc4 = nn.Linear(64, 10)\n",
    "    \n",
    "    def forward(self, x): \n",
    "        x = F.relu(self.fc1(x))\n",
    "        x = F.relu(self.fc2(x))\n",
    "        x = F.relu(self.fc3(x))\n",
    "        x = self.fc4(x)\n",
    "        return F.log_softmax(x, dim = 1)\n",
    "\n",
    "net = Net()\n",
    "print(net)    "
   ]
  },
  {
   "cell_type": "code",
   "execution_count": 6,
   "id": "2bf88e69-e6f2-4912-bb4b-358a65d8aa64",
   "metadata": {},
   "outputs": [
    {
     "name": "stdout",
     "output_type": "stream",
     "text": [
      "tensor(0.0666, grad_fn=<NllLossBackward0>)\n",
      "tensor(0.2873, grad_fn=<NllLossBackward0>)\n",
      "tensor(0.0333, grad_fn=<NllLossBackward0>)\n"
     ]
    }
   ],
   "source": [
    "import torch.optim as optim\n",
    "\n",
    "optimizer = optim.Adam(net.parameters(), lr = 0.001)\n",
    "\n",
    "EPOCHS = 3\n",
    "\n",
    "for epoch in range(EPOCHS): \n",
    "    for data in trainset: \n",
    "        X, y = data \n",
    "        net.zero_grad()\n",
    "        output = net(X.view(-1, 28*28))\n",
    "        loss = F.nll_loss(output, y)\n",
    "        loss.backward()\n",
    "        optimizer.step()\n",
    "    print(loss) "
   ]
  },
  {
   "cell_type": "code",
   "execution_count": 7,
   "id": "75c0f746-9ab1-4cb0-a952-739d5bca8972",
   "metadata": {},
   "outputs": [
    {
     "name": "stdout",
     "output_type": "stream",
     "text": [
      "Accuracy:  0.977\n"
     ]
    }
   ],
   "source": [
    "correct = 0\n",
    "total = 0\n",
    "\n",
    "with torch.no_grad(): \n",
    "    for data in trainset: \n",
    "        X, y = data\n",
    "        output = net(X.view(-1, 784))\n",
    "        for idx, i in enumerate(output): \n",
    "            if torch.argmax(i) == y[idx]: \n",
    "                correct += 1\n",
    "            total += 1\n",
    "            \n",
    "print(\"Accuracy: \", round(correct/total, 3))"
   ]
  },
  {
   "cell_type": "code",
   "execution_count": 8,
   "id": "fcd55312-5b67-4768-b54f-4580cb7b9899",
   "metadata": {},
   "outputs": [
    {
     "data": {
      "image/png": "[encoded data removed]",
      "text/plain": [
       "<Figure size 720x720 with 10 Axes>"
      ]
     },
     "metadata": {},
     "output_type": "display_data"
    }
   ],
   "source": [
    "plt.figure(figsize = (10, 10))\n",
    "for i in range(len(X)): \n",
    "    plt.subplot(2, 5, i+1)\n",
    "    plt.imshow(X[i].view(28, 28))\n",
    "    plt.title(torch.argmax(net(X[i].view(-1, 784))[0]))\n",
    "    plt.xticks([])\n",
    "    plt.yticks([])\n",
    "plt.show()"
   ]
  },
  {
   "cell_type": "code",
   "execution_count": 9,
   "id": "ffda467b-fe3e-457b-9231-8bf55a7e2da2",
   "metadata": {},
   "outputs": [
    {
     "name": "stdout",
     "output_type": "stream",
     "text": [
      "tensor(0.0433, grad_fn=<NllLossBackward0>)\n",
      "tensor(0.2041, grad_fn=<NllLossBackward0>)\n",
      "tensor(0.0090, grad_fn=<NllLossBackward0>)\n"
     ]
    }
   ],
   "source": [
    "for epoch in range(EPOCHS): \n",
    "    for data in testset: \n",
    "        X, y = data \n",
    "        net.zero_grad()\n",
    "        output = net(X.view(-1, 28*28))\n",
    "        loss = F.nll_loss(output, y)\n",
    "        loss.backward()\n",
    "        optimizer.step()\n",
    "    print(loss) "
   ]
  },
  {
   "cell_type": "code",
   "execution_count": 10,
   "id": "a5515f02-689b-4936-a328-6920e218b423",
   "metadata": {},
   "outputs": [
    {
     "name": "stdout",
     "output_type": "stream",
     "text": [
      "Accuracy:  0.995\n"
     ]
    }
   ],
   "source": [
    "correct = 0\n",
    "total = 0\n",
    "\n",
    "with torch.no_grad(): \n",
    "    for data in testset: \n",
    "        X, y = data\n",
    "        output = net(X.view(-1, 784))\n",
    "        for idx, i in enumerate(output): \n",
    "            if torch.argmax(i) == y[idx]: \n",
    "                correct += 1\n",
    "            total += 1\n",
    "            \n",
    "print(\"Accuracy: \", round(correct/total, 3))"
   ]
  },
  {
   "cell_type": "code",
   "execution_count": 11,
   "id": "395632c2-cda9-45d7-9ed9-2f316dc97abf",
   "metadata": {},
   "outputs": [
    {
     "data": {
      "image/png": "[encoded data removed]",
      "text/plain": [
       "<Figure size 720x720 with 10 Axes>"
      ]
     },
     "metadata": {},
     "output_type": "display_data"
    }
   ],
   "source": [
    "plt.figure(figsize = (10, 10))\n",
    "for i in range(len(X)): \n",
    "    plt.subplot(2, 5, i+1)\n",
    "    plt.imshow(X[i].view(28, 28))\n",
    "    plt.title(torch.argmax(net(X[i].view(-1, 784))[0]))\n",
    "    plt.xticks([])\n",
    "    plt.yticks([])\n",
    "plt.show()"
   ]
  },
  {
   "cell_type": "code",
   "execution_count": 12,
   "id": "a74f7ba6-8009-43fc-9e21-4e92ccf98fb9",
   "metadata": {},
   "outputs": [],
   "source": [
    "import pandas as pd\n",
    "\n",
    "train = datasets.MNIST(\"\", train = True, download = True, transform = transforms.Compose([transforms.ToTensor()]))\n",
    "test = datasets.MNIST(\"\", train = False, download = True, transform = transforms.Compose([transforms.ToTensor()]))"
   ]
  },
  {
   "cell_type": "code",
   "execution_count": 13,
   "id": "6a5f50eb-44bc-4a99-8e4b-53941da57cb1",
   "metadata": {},
   "outputs": [],
   "source": [
    "class Net(nn.Module): \n",
    "    def __init__(self): \n",
    "        super().__init__()\n",
    "        self.fc1 = nn.Linear(28*28, 64)\n",
    "        self.fc2 = nn.Linear(64, 64)\n",
    "        self.fc3 = nn.Linear(64, 64)\n",
    "        self.fc4 = nn.Linear(64, 10)\n",
    "    \n",
    "    def forward(self, x): \n",
    "        x = F.relu(self.fc1(x))\n",
    "        x = F.relu(self.fc2(x))\n",
    "        x = F.relu(self.fc3(x))\n",
    "        x = self.fc4(x)\n",
    "        return F.log_softmax(x, dim = 1)\n",
    "net = Net()\n",
    "\n",
    "def model(batchsize, learnrate, E): \n",
    "    trainset = torch.utils.data.DataLoader(train, batch_size = batchsize, shuffle = True)\n",
    "    testset = torch.utils.data.DataLoader(test, batch_size = batchsize, shuffle = True)\n",
    "    optimizer = optim.Adam(net.parameters(), lr = learnrate)\n",
    "    for epoch in range(E): \n",
    "        for data in trainset: \n",
    "            X, y = data \n",
    "            net.zero_grad()\n",
    "            output = net(X.view(-1, 28*28))\n",
    "            loss = F.nll_loss(output, y)\n",
    "            loss.backward()\n",
    "            optimizer.step()\n",
    "\n",
    "    correct = 0\n",
    "    total = 0\n",
    "\n",
    "    with torch.no_grad(): \n",
    "        for data in trainset: \n",
    "            X, y = data\n",
    "            output = net(X.view(-1, 784))\n",
    "            for idx, i in enumerate(output): \n",
    "                if torch.argmax(i) == y[idx]: \n",
    "                    correct += 1\n",
    "                total += 1\n",
    "    return round(correct/total, 3) "
   ]
  },
  {
   "cell_type": "code",
   "execution_count": 14,
   "id": "c3128a78-3830-4290-ab1f-20f7effe73cd",
   "metadata": {},
   "outputs": [],
   "source": [
    "batch_size = [5, 10, 20]\n",
    "lr = [0.0001, 0.001, 0.01]\n",
    "EPOCHS = [2, 3, 5]\n",
    "y = {}\n",
    "\n",
    "def evaluateModel():\n",
    "    for i in batch_size: \n",
    "        for j in lr: \n",
    "            for k in EPOCHS: \n",
    "                print(i, j, k)\n",
    "                y[(i, j, k)] = model(i, j, k)\n",
    "    return y"
   ]
  },
  {
   "cell_type": "code",
   "execution_count": 15,
   "id": "48331df1-8390-46a5-8fa0-73d4775b8c31",
   "metadata": {},
   "outputs": [
    {
     "name": "stdout",
     "output_type": "stream",
     "text": [
      "5 0.0001 2\n",
      "5 0.0001 3\n",
      "5 0.0001 5\n",
      "5 0.001 2\n",
      "5 0.001 3\n",
      "5 0.001 5\n",
      "5 0.01 2\n",
      "5 0.01 3\n",
      "5 0.01 5\n",
      "10 0.0001 2\n",
      "10 0.0001 3\n",
      "10 0.0001 5\n",
      "10 0.001 2\n",
      "10 0.001 3\n",
      "10 0.001 5\n",
      "10 0.01 2\n",
      "10 0.01 3\n",
      "10 0.01 5\n",
      "20 0.0001 2\n",
      "20 0.0001 3\n",
      "20 0.0001 5\n",
      "20 0.001 2\n",
      "20 0.001 3\n",
      "20 0.001 5\n",
      "20 0.01 2\n",
      "20 0.01 3\n",
      "20 0.01 5\n",
      "{(5, 0.0001, 2): 0.935, (5, 0.0001, 3): 0.965, (5, 0.0001, 5): 0.98, (5, 0.001, 2): 0.973, (5, 0.001, 3): 0.979, (5, 0.001, 5): 0.988, (5, 0.01, 2): 0.92, (5, 0.01, 3): 0.937, (5, 0.01, 5): 0.802, (10, 0.0001, 2): 0.834, (10, 0.0001, 3): 0.843, (10, 0.0001, 5): 0.852, (10, 0.001, 2): 0.953, (10, 0.001, 3): 0.96, (10, 0.001, 5): 0.963, (10, 0.01, 2): 0.939, (10, 0.01, 3): 0.732, (10, 0.01, 5): 0.85, (20, 0.0001, 2): 0.864, (20, 0.0001, 3): 0.869, (20, 0.0001, 5): 0.872, (20, 0.001, 2): 0.957, (20, 0.001, 3): 0.962, (20, 0.001, 5): 0.966, (20, 0.01, 2): 0.869, (20, 0.01, 3): 0.952, (20, 0.01, 5): 0.958}\n"
     ]
    }
   ],
   "source": [
    "#make sure it works\n",
    "print(evaluateModel())"
   ]
  },
  {
   "cell_type": "code",
   "execution_count": 16,
   "id": "a3cfe020-f2ba-4a29-a53b-4b144f4b9d32",
   "metadata": {},
   "outputs": [],
   "source": [
    "def main():\n",
    "    levelValues = [batch_size, lr, EPOCHS]\n",
    "    levelNames = ['batch_size', 'lr', 'EPOCHS']\n",
    "    #apply evaluate model\n",
    "    ind = pd.MultiIndex.from_product(levelValues, names=levelNames)\n",
    "    data = pd.DataFrame(y.values(), index = ind, columns = ['accuracy'])\n",
    "\n",
    "    i = 0 \n",
    "    fig, ax = plt.subplots(1, 3, figsize = (21, 7))\n",
    "    for key, subDf in data.groupby('batch_size'):\n",
    "        subDf = subDf.droplevel('batch_size')\n",
    "        for j in range(len(lr)): \n",
    "            val = subDf.accuracy.iloc[subDf.index.get_level_values('lr') == lr[j]]\n",
    "            ax[i].plot(EPOCHS, val, marker = 'o', label = lr[j])\n",
    "            ax[i].legend(loc='lower right', title = 'Learning Rate')\n",
    "            ax[i].title.set_text('Batch Size ' + str(batch_size[i]))\n",
    "        i += 1\n",
    "        fig.text(x = 0.5, y = 0.04, s = 'EPOCHS', ha = 'center', va = 'center')\n",
    "        fig.text(x = 0.09, y = 0.5, s = 'Accuracy', ha = 'center', va = 'center', rotation = 90)\n",
    "    plt.suptitle('Model Evaluation for Different Batch Size, EPOCHS and Learning Rate') \n",
    "    plt.show()"
   ]
  },
  {
   "cell_type": "code",
   "execution_count": 17,
   "id": "356f35eb-bc64-4375-b403-6e32a5762cb4",
   "metadata": {},
   "outputs": [
    {
     "data": {
      "image/png": "[encoded data removed]",
      "text/plain": [
       "<Figure size 1512x504 with 3 Axes>"
      ]
     },
     "metadata": {
      "needs_background": "light"
     },
     "output_type": "display_data"
    }
   ],
   "source": [
    "main()"
   ]
  },
  {
   "cell_type": "code",
   "execution_count": 18,
   "id": "0ecddfd7-7b31-4c4b-8b3e-3ee52ff330fc",
   "metadata": {},
   "outputs": [],
   "source": [
    "levelValues = [batch_size, lr, EPOCHS]\n",
    "levelNames = ['batch_size', 'lr', 'EPOCHS']\n",
    "ind = pd.MultiIndex.from_product(levelValues, names=levelNames)\n",
    "data = pd.DataFrame(y.values(), index = ind, columns = ['accuracy'])"
   ]
  },
  {
   "cell_type": "code",
   "execution_count": 19,
   "id": "e605f90e-59e2-4505-8bfa-b152173aa332",
   "metadata": {},
   "outputs": [
    {
     "data": {
      "text/html": [
       "<div>\n",
       "<style scoped>\n",
       "    .dataframe tbody tr th:only-of-type {\n",
       "        vertical-align: middle;\n",
       "    }\n",
       "\n",
       "    .dataframe tbody tr th {\n",
       "        vertical-align: top;\n",
       "    }\n",
       "\n",
       "    .dataframe thead th {\n",
       "        text-align: right;\n",
       "    }\n",
       "</style>\n",
       "<table border=\"1\" class=\"dataframe\">\n",
       "  <thead>\n",
       "    <tr style=\"text-align: right;\">\n",
       "      <th></th>\n",
       "      <th></th>\n",
       "      <th></th>\n",
       "      <th>accuracy</th>\n",
       "    </tr>\n",
       "    <tr>\n",
       "      <th>batch_size</th>\n",
       "      <th>lr</th>\n",
       "      <th>EPOCHS</th>\n",
       "      <th></th>\n",
       "    </tr>\n",
       "  </thead>\n",
       "  <tbody>\n",
       "    <tr>\n",
       "      <th rowspan=\"9\" valign=\"top\">5</th>\n",
       "      <th rowspan=\"3\" valign=\"top\">0.0001</th>\n",
       "      <th>2</th>\n",
       "      <td>0.935</td>\n",
       "    </tr>\n",
       "    <tr>\n",
       "      <th>3</th>\n",
       "      <td>0.965</td>\n",
       "    </tr>\n",
       "    <tr>\n",
       "      <th>5</th>\n",
       "      <td>0.980</td>\n",
       "    </tr>\n",
       "    <tr>\n",
       "      <th rowspan=\"3\" valign=\"top\">0.0010</th>\n",
       "      <th>2</th>\n",
       "      <td>0.973</td>\n",
       "    </tr>\n",
       "    <tr>\n",
       "      <th>3</th>\n",
       "      <td>0.979</td>\n",
       "    </tr>\n",
       "    <tr>\n",
       "      <th>5</th>\n",
       "      <td>0.988</td>\n",
       "    </tr>\n",
       "    <tr>\n",
       "      <th rowspan=\"3\" valign=\"top\">0.0100</th>\n",
       "      <th>2</th>\n",
       "      <td>0.920</td>\n",
       "    </tr>\n",
       "    <tr>\n",
       "      <th>3</th>\n",
       "      <td>0.937</td>\n",
       "    </tr>\n",
       "    <tr>\n",
       "      <th>5</th>\n",
       "      <td>0.802</td>\n",
       "    </tr>\n",
       "    <tr>\n",
       "      <th rowspan=\"9\" valign=\"top\">10</th>\n",
       "      <th rowspan=\"3\" valign=\"top\">0.0001</th>\n",
       "      <th>2</th>\n",
       "      <td>0.834</td>\n",
       "    </tr>\n",
       "    <tr>\n",
       "      <th>3</th>\n",
       "      <td>0.843</td>\n",
       "    </tr>\n",
       "    <tr>\n",
       "      <th>5</th>\n",
       "      <td>0.852</td>\n",
       "    </tr>\n",
       "    <tr>\n",
       "      <th rowspan=\"3\" valign=\"top\">0.0010</th>\n",
       "      <th>2</th>\n",
       "      <td>0.953</td>\n",
       "    </tr>\n",
       "    <tr>\n",
       "      <th>3</th>\n",
       "      <td>0.960</td>\n",
       "    </tr>\n",
       "    <tr>\n",
       "      <th>5</th>\n",
       "      <td>0.963</td>\n",
       "    </tr>\n",
       "    <tr>\n",
       "      <th rowspan=\"3\" valign=\"top\">0.0100</th>\n",
       "      <th>2</th>\n",
       "      <td>0.939</td>\n",
       "    </tr>\n",
       "    <tr>\n",
       "      <th>3</th>\n",
       "      <td>0.732</td>\n",
       "    </tr>\n",
       "    <tr>\n",
       "      <th>5</th>\n",
       "      <td>0.850</td>\n",
       "    </tr>\n",
       "    <tr>\n",
       "      <th rowspan=\"9\" valign=\"top\">20</th>\n",
       "      <th rowspan=\"3\" valign=\"top\">0.0001</th>\n",
       "      <th>2</th>\n",
       "      <td>0.864</td>\n",
       "    </tr>\n",
       "    <tr>\n",
       "      <th>3</th>\n",
       "      <td>0.869</td>\n",
       "    </tr>\n",
       "    <tr>\n",
       "      <th>5</th>\n",
       "      <td>0.872</td>\n",
       "    </tr>\n",
       "    <tr>\n",
       "      <th rowspan=\"3\" valign=\"top\">0.0010</th>\n",
       "      <th>2</th>\n",
       "      <td>0.957</td>\n",
       "    </tr>\n",
       "    <tr>\n",
       "      <th>3</th>\n",
       "      <td>0.962</td>\n",
       "    </tr>\n",
       "    <tr>\n",
       "      <th>5</th>\n",
       "      <td>0.966</td>\n",
       "    </tr>\n",
       "    <tr>\n",
       "      <th rowspan=\"3\" valign=\"top\">0.0100</th>\n",
       "      <th>2</th>\n",
       "      <td>0.869</td>\n",
       "    </tr>\n",
       "    <tr>\n",
       "      <th>3</th>\n",
       "      <td>0.952</td>\n",
       "    </tr>\n",
       "    <tr>\n",
       "      <th>5</th>\n",
       "      <td>0.958</td>\n",
       "    </tr>\n",
       "  </tbody>\n",
       "</table>\n",
       "</div>"
      ],
      "text/plain": [
       "                          accuracy\n",
       "batch_size lr     EPOCHS          \n",
       "5          0.0001 2          0.935\n",
       "                  3          0.965\n",
       "                  5          0.980\n",
       "           0.0010 2          0.973\n",
       "                  3          0.979\n",
       "                  5          0.988\n",
       "           0.0100 2          0.920\n",
       "                  3          0.937\n",
       "                  5          0.802\n",
       "10         0.0001 2          0.834\n",
       "                  3          0.843\n",
       "                  5          0.852\n",
       "           0.0010 2          0.953\n",
       "                  3          0.960\n",
       "                  5          0.963\n",
       "           0.0100 2          0.939\n",
       "                  3          0.732\n",
       "                  5          0.850\n",
       "20         0.0001 2          0.864\n",
       "                  3          0.869\n",
       "                  5          0.872\n",
       "           0.0010 2          0.957\n",
       "                  3          0.962\n",
       "                  5          0.966\n",
       "           0.0100 2          0.869\n",
       "                  3          0.952\n",
       "                  5          0.958"
      ]
     },
     "execution_count": 19,
     "metadata": {},
     "output_type": "execute_result"
    }
   ],
   "source": [
    "data"
   ]
  }
 ],
 "metadata": {
  "kernelspec": {
   "display_name": "Python 3 (ipykernel)",
   "language": "python",
   "name": "python3"
  },
  "language_info": {
   "codemirror_mode": {
    "name": "ipython",
    "version": 3
   },
   "file_extension": ".py",
   "mimetype": "text/x-python",
   "name": "python",
   "nbconvert_exporter": "python",
   "pygments_lexer": "ipython3",
   "version": "3.9.7"
  }
 },
 "nbformat": 4,
 "nbformat_minor": 5
}
